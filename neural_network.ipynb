{
 "cells": [
  {
   "cell_type": "markdown",
   "id": "0e759cf4",
   "metadata": {},
   "source": [
    "# Neural Networks from scratch\n"
   ]
  },
  {
   "cell_type": "code",
   "execution_count": null,
   "id": "aee0def6",
   "metadata": {},
   "outputs": [],
   "source": []
  }
 ],
 "metadata": {
  "kernelspec": {
   "display_name": ".venv",
   "language": "python",
   "name": "python3"
  },
  "language_info": {
   "name": "python",
   "version": "3.11.5"
  }
 },
 "nbformat": 4,
 "nbformat_minor": 5
}
