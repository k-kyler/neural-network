{
 "cells": [
  {
   "cell_type": "markdown",
   "id": "0e759cf4",
   "metadata": {},
   "source": [
    "# Neural Networks from scratch\n"
   ]
  },
  {
   "cell_type": "code",
   "execution_count": null,
   "id": "aee0def6",
   "metadata": {},
   "outputs": [],
   "source": [
    "import numpy as np\n",
    "import matplotlib.pyplot as plt\n",
    "import pandas as pd\n",
    "import seaborn as sns"
   ]
  },
  {
   "cell_type": "markdown",
   "id": "b02ee8ea",
   "metadata": {},
   "source": [
    "## Build Neural Network\n"
   ]
  },
  {
   "cell_type": "code",
   "execution_count": null,
   "id": "1bc2f8c1",
   "metadata": {},
   "outputs": [],
   "source": [
    "class BaseLayer:\n",
    "    def __init__(self):\n",
    "        self.input = None\n",
    "        self.output = None\n",
    "\n",
    "    def forward(self, input):\n",
    "        \"\"\"\n",
    "        Abstract method for forward method.\n",
    "        \"\"\"\n",
    "        pass\n",
    "\n",
    "    def backward(self, output_gradient, learning_rate):\n",
    "        \"\"\"\n",
    "        Abstract method for backward method.\n",
    "        \"\"\"\n",
    "        pass"
   ]
  },
  {
   "cell_type": "code",
   "execution_count": null,
   "id": "312197a2",
   "metadata": {},
   "outputs": [],
   "source": [
    "\"\"\"\n",
    "Assume that we have a neural network layer with i inputs and j outputs\n",
    "- The weights matrix will be of shape (j x i)\n",
    "- The input vector will be of shape (i x 1)\n",
    "- The bias vector will be of shape (j x 1)\n",
    "Finally, the output vector will be calculate by dot product and vector addition:\n",
    "> weights . input + bias = (j x i) . (i x 1) + (j x 1) = (j x 1)\n",
    "\"\"\"\n",
    "\n",
    "\n",
    "class DenseLayer(BaseLayer):\n",
    "    def __init__(self, input_size, output_size):\n",
    "        super().__init__()\n",
    "        self.weights = np.random.randn(output_size, input_size)  # j x i\n",
    "        self.bias = np.random.randn(output_size, 1)  # j x 1\n",
    "\n",
    "    def forward(self, input):\n",
    "        self.input = input\n",
    "        output = np.dot(self.weights, self.input) + self.bias\n",
    "        return output\n",
    "\n",
    "    def backward(self, output_gradient, learning_rate):\n",
    "        weights_gradient = np.dot(output_gradient, self.input.T)\n",
    "\n",
    "        # Derivative of loss respect to input\n",
    "        derivative = np.dot(self.weights.T, output_gradient)\n",
    "\n",
    "        # Apply gradient descent\n",
    "        self.weights -= learning_rate * weights_gradient\n",
    "        self.bias -= learning_rate * output_gradient\n",
    "\n",
    "        return derivative"
   ]
  },
  {
   "cell_type": "code",
   "execution_count": null,
   "id": "f4e93aa1",
   "metadata": {},
   "outputs": [],
   "source": [
    "class ActivationLayer(BaseLayer):\n",
    "    def __init__(self, activation, activation_derivative):\n",
    "        super().__init__()\n",
    "        self.activation = activation  # Activation function (e.g., sigmoid, relu)\n",
    "        self.activation_derivative = (\n",
    "            activation_derivative  # Derivative of activation function\n",
    "        )\n",
    "\n",
    "    def forward(self, input):\n",
    "        self.input = input\n",
    "        activated_output = self.activation(input)\n",
    "        return activated_output\n",
    "\n",
    "    def backward(self, output_gradient, learning_rate=None):\n",
    "        \"\"\"\n",
    "        Apply chain rule: multiply output gradient by activation derivative\n",
    "\n",
    "        Note: learning_rate is not used since activation layers have no parameters to update\n",
    "        \"\"\"\n",
    "        derivative = self.activation_derivative(self.input)\n",
    "        return np.multiply(output_gradient, derivative)"
   ]
  },
  {
   "cell_type": "code",
   "execution_count": null,
   "id": "2e34f9d0",
   "metadata": {},
   "outputs": [],
   "source": [
    "class Tanh(ActivationLayer):\n",
    "    def __init__(self):\n",
    "        def tanh(x):\n",
    "            return np.tanh(x)\n",
    "\n",
    "        def tanh_derivative(x):\n",
    "            return 1 - np.tanh(x) ** 2\n",
    "\n",
    "        super().__init__(tanh, tanh_derivative)"
   ]
  },
  {
   "cell_type": "code",
   "execution_count": null,
   "id": "7ed28464",
   "metadata": {},
   "outputs": [],
   "source": [
    "def mean_squared_error(y_actual, y_pred):\n",
    "    \"\"\"\n",
    "    Mean Squared Error (MSE) loss function\n",
    "    \"\"\"\n",
    "    return np.mean((y_actual - y_pred) ** 2)\n",
    "\n",
    "\n",
    "def mean_squared_error_derivative(y_actual, y_pred):\n",
    "    \"\"\"\n",
    "    Derivative of Mean Squared Error (MSE) loss function\n",
    "    \"\"\"\n",
    "    return 2 * (y_pred - y_actual) / np.size(y_actual)"
   ]
  },
  {
   "cell_type": "markdown",
   "id": "af5561f4",
   "metadata": {},
   "source": [
    "## Data Exploration\n"
   ]
  },
  {
   "cell_type": "code",
   "execution_count": null,
   "id": "20c15e9d",
   "metadata": {},
   "outputs": [],
   "source": [
    "df = pd.read_csv(\"data/ObesityDataSet_raw_and_data_sinthetic.csv\")\n",
    "df.head()"
   ]
  },
  {
   "cell_type": "code",
   "execution_count": null,
   "id": "9ee51b82",
   "metadata": {},
   "outputs": [],
   "source": [
    "# Check duplicates\n",
    "df.duplicated().sum()"
   ]
  },
  {
   "cell_type": "code",
   "execution_count": null,
   "id": "e1607f0e",
   "metadata": {},
   "outputs": [],
   "source": [
    "# Check missing values\n",
    "df.isnull().sum()"
   ]
  },
  {
   "cell_type": "code",
   "execution_count": null,
   "id": "1ad92094",
   "metadata": {},
   "outputs": [],
   "source": [
    "df.describe()"
   ]
  },
  {
   "cell_type": "markdown",
   "id": "21c7f4d6",
   "metadata": {},
   "source": [
    "## Data Preprocessing\n"
   ]
  },
  {
   "cell_type": "code",
   "execution_count": null,
   "id": "ef8dfae9",
   "metadata": {},
   "outputs": [],
   "source": [
    "# Remove duplicates\n",
    "df = df.drop_duplicates()"
   ]
  },
  {
   "cell_type": "code",
   "execution_count": null,
   "id": "a79ff708",
   "metadata": {},
   "outputs": [],
   "source": [
    "df.duplicated().sum()"
   ]
  },
  {
   "cell_type": "markdown",
   "id": "8ce319e9",
   "metadata": {},
   "source": [
    "## Plot the initial data\n"
   ]
  },
  {
   "cell_type": "code",
   "execution_count": null,
   "id": "2aeaf7c6",
   "metadata": {},
   "outputs": [],
   "source": [
    "# Plot distribution of obesity classes\n",
    "plt.figure(figsize=(12, 6))\n",
    "obesity_counts = df[\"NObeyesdad\"].value_counts().sort_index()\n",
    "sns.barplot(x=obesity_counts.index, y=obesity_counts.values)\n",
    "plt.title(\"Distribution of Obesity Classes\")\n",
    "plt.xticks(rotation=45)\n",
    "plt.ylabel(\"Count\")\n",
    "plt.tight_layout()\n",
    "plt.show()"
   ]
  },
  {
   "cell_type": "code",
   "execution_count": null,
   "id": "81a4455d",
   "metadata": {},
   "outputs": [],
   "source": [
    "# Weight vs. Height colored by obesity class\n",
    "plt.figure(figsize=(10, 8))\n",
    "for label, group in df.groupby(\"NObeyesdad\"):\n",
    "    plt.scatter(group[\"Height\"], group[\"Weight\"], label=label, alpha=0.7)\n",
    "plt.title(\"Weight vs. Height by Obesity Class\")\n",
    "plt.xlabel(\"Height (m)\")\n",
    "plt.ylabel(\"Weight (kg)\")\n",
    "plt.legend(title=\"Obesity Class\", bbox_to_anchor=(1, 1))\n",
    "plt.tight_layout()\n",
    "plt.grid(alpha=0.3)\n",
    "plt.show()"
   ]
  },
  {
   "cell_type": "code",
   "execution_count": null,
   "id": "76194a42",
   "metadata": {},
   "outputs": [],
   "source": [
    "# Age distribution by gender and obesity class\n",
    "plt.figure(figsize=(14, 8))\n",
    "for i, gender in enumerate([\"Male\", \"Female\"]):\n",
    "    plt.subplot(1, 2, i + 1)\n",
    "    data = df[df[\"Gender\"] == gender]\n",
    "    sns.boxplot(\n",
    "        x=\"NObeyesdad\", y=\"Age\", data=data, order=sorted(df[\"NObeyesdad\"].unique())\n",
    "    )\n",
    "    plt.title(f\"Age Distribution for {gender}\")\n",
    "    plt.xticks(rotation=45)\n",
    "plt.tight_layout()\n",
    "plt.show()"
   ]
  },
  {
   "cell_type": "code",
   "execution_count": null,
   "id": "cf9e62ac",
   "metadata": {},
   "outputs": [],
   "source": [
    "# Transportation method by obesity class\n",
    "plt.figure(figsize=(14, 8))\n",
    "pd.crosstab(df[\"MTRANS\"], df[\"NObeyesdad\"]).plot(kind=\"bar\", stacked=True)\n",
    "plt.title(\"Transportation Method vs. Obesity Class\")\n",
    "plt.xlabel(\"Transportation Method\")\n",
    "plt.xticks(rotation=45)\n",
    "plt.ylabel(\"Count\")\n",
    "plt.legend(title=\"Obesity Class\", bbox_to_anchor=(1, 1))\n",
    "plt.tight_layout()\n",
    "plt.show()"
   ]
  },
  {
   "cell_type": "code",
   "execution_count": null,
   "id": "96c53494",
   "metadata": {},
   "outputs": [],
   "source": [
    "# Water consumption by obesity class\n",
    "plt.figure(figsize=(14, 8))\n",
    "sns.boxplot(x=\"NObeyesdad\", y=\"CH2O\", data=df, order=sorted(df[\"NObeyesdad\"].unique()))\n",
    "plt.title(\"Water Consumption by Obesity Class\")\n",
    "plt.xticks(rotation=45)\n",
    "plt.tight_layout()\n",
    "plt.show()"
   ]
  },
  {
   "cell_type": "code",
   "execution_count": null,
   "id": "c69129ac",
   "metadata": {},
   "outputs": [],
   "source": [
    "# Family history of overweight by obesity class\n",
    "plt.figure(figsize=(12, 6))\n",
    "family_obesity = pd.crosstab(\n",
    "    df[\"family_history_with_overweight\"], df[\"NObeyesdad\"], normalize=\"index\"\n",
    ")\n",
    "family_obesity.plot(kind=\"bar\", stacked=False)\n",
    "plt.title(\"Family History of Overweight vs. Obesity Class\")\n",
    "plt.xlabel(\"Family History with Overweight\")\n",
    "plt.ylabel(\"Percentage\")\n",
    "plt.xticks(rotation=0)\n",
    "plt.legend(title=\"Obesity Class\")\n",
    "plt.tight_layout()\n",
    "plt.show()"
   ]
  }
 ],
 "metadata": {
  "kernelspec": {
   "display_name": ".venv",
   "language": "python",
   "name": "python3"
  },
  "language_info": {
   "codemirror_mode": {
    "name": "ipython",
    "version": 3
   },
   "file_extension": ".py",
   "mimetype": "text/x-python",
   "name": "python",
   "nbconvert_exporter": "python",
   "pygments_lexer": "ipython3",
   "version": "3.11.5"
  }
 },
 "nbformat": 4,
 "nbformat_minor": 5
}
